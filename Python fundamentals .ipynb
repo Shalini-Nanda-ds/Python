{
 "cells": [
  {
   "cell_type": "markdown",
   "metadata": {},
   "source": [
    "## <span style = 'color:green'>Assignment on python fundamentals</span>\n"
   ]
  },
  {
   "cell_type": "markdown",
   "metadata": {},
   "source": [
    "1. **By using 'print' function print the provided string in specified format**\n",
    "**your executiion should be this**: \n",
    "\n",
    "Hello World           \n",
    "  Welcome to 'Python' Programming"
   ]
  },
  {
   "cell_type": "code",
   "execution_count": 5,
   "metadata": {},
   "outputs": [
    {
     "name": "stdout",
     "output_type": "stream",
     "text": [
      "Hello World \n",
      "Welcome to 'Python' Programming\n"
     ]
    }
   ],
   "source": [
    "#start your code here\n",
    "print(\"Hello World \")\n",
    "print(\"Welcome to 'Python' Programming\")\n",
    "\n"
   ]
  },
  {
   "cell_type": "markdown",
   "metadata": {},
   "source": [
    "2. **Check the python version which you are using**"
   ]
  },
  {
   "cell_type": "code",
   "execution_count": 7,
   "metadata": {},
   "outputs": [
    {
     "name": "stdout",
     "output_type": "stream",
     "text": [
      "3.9.12\n"
     ]
    }
   ],
   "source": [
    "#start your code here\n",
    "from platform import python_version\n",
    "print(python_version())\n"
   ]
  },
  {
   "cell_type": "markdown",
   "metadata": {},
   "source": [
    "3. **Design a Python program which can calculate the area by taking readius as input by user input method**\n",
    "<table>\n",
    "  <tr>\n",
    "  <td><td>\n",
    "   <br> instead of giving direct values try using \"float(input())\" </td>\n",
    "  </tr>\n",
    "</table>"
   ]
  },
  {
   "cell_type": "code",
   "execution_count": 38,
   "metadata": {},
   "outputs": [
    {
     "name": "stdout",
     "output_type": "stream",
     "text": [
      "Enter the radius4.2\n",
      "Area of a circle is 55.42\n"
     ]
    }
   ],
   "source": [
    "#start your code here\n",
    "import math as M\n",
    "radius=float(input(\"Enter the radius\"))\n",
    "# area=M.pi*radius*radius\n",
    "print(f\"Area of a circle is {round(M.pi*radius*radius,2)}\")"
   ]
  },
  {
   "cell_type": "markdown",
   "metadata": {},
   "source": [
    "4. **Write a python program which can take your first and last name seperately and execute as** \n",
    "<table>\n",
    "  <tr>\n",
    "  <td><td>\n",
    "   <br>**Sample execution** : Hello 'first name' 'last name', hope you are doing good</td>\n",
    "  </tr>\n",
    "</table>\n"
   ]
  },
  {
   "cell_type": "code",
   "execution_count": 7,
   "metadata": {},
   "outputs": [
    {
     "name": "stdout",
     "output_type": "stream",
     "text": [
      "Enter your first name :- Shalini\n",
      "Enter your last name :- Nanda\n",
      "Hello Shalini Nanda, hope you are doing good!\n"
     ]
    }
   ],
   "source": [
    "fname=input(\"Enter your first name :- \")\n",
    "lname=input(\"Enter your last name :- \")\n",
    "print(f\"Hello {fname} {lname}, hope you are doing good!\")"
   ]
  },
  {
   "cell_type": "markdown",
   "metadata": {},
   "source": [
    "5. **Write a python program which can convert kilograms to grams**\n"
   ]
  },
  {
   "cell_type": "code",
   "execution_count": 6,
   "metadata": {},
   "outputs": [
    {
     "name": "stdout",
     "output_type": "stream",
     "text": [
      "Enter the value in kg: 21\n",
      "converted gram value is:21000.0g\n"
     ]
    }
   ],
   "source": [
    "#start your code here\n",
    "kg=float(input(\"Enter the value in kg: \"))\n",
    "# gm=kg*1000\n",
    "print(f\"converted gram value is:{kg*1000}g\")"
   ]
  },
  {
   "cell_type": "markdown",
   "metadata": {},
   "source": [
    "6. **Create a list and store the given elements in the list**\n",
    "  <table>\n",
    "  <tr>\n",
    "  <td><td>\n",
    "   <br>Elements : 'Bengaluru','New York', 1971, '1682', (1,2,3,4,5,'Is this tuple?'),\"'Hello,welcome to Python Programming'\"</td>\n",
    "  </tr>\n",
    "</table>\n",
    "- Try to extract entire tuple by using positive indexing\n",
    "- Can we add elements into tuple after creating it? No\n",
    "- Remove '1682' and 'New York' from the list\n",
    "- Discuss one practical application of tuple and lists. Machine Learning,Data visualization,Data science and AI.\n",
    "- Access 'Bengaluru' by Negitive indexing\n",
    "- add 'Mumbai' into the list\n",
    "- Try to perform one operation on each removal operation on lists \n",
    "1. del\n",
    "2. remove\n",
    "3. pop\n",
    "- Try to perform one operation on each operational\n",
    "1. append\n",
    "2. entend\n",
    "3. insert"
   ]
  },
  {
   "cell_type": "code",
   "execution_count": 35,
   "metadata": {},
   "outputs": [
    {
     "name": "stdout",
     "output_type": "stream",
     "text": [
      "['Bengaluru', 'New York', 1971, '1682', (1, 2, 3, 4, 5, 'Is this tuple?'), \"'Hello,welcome to Python Programming'\"]\n",
      "(1, 2, 3, 4, 5, 'Is this tuple?')\n",
      "['Bengaluru', 1971, (1, 2, 3, 4, 5, 'Is this tuple?'), \"'Hello,welcome to Python Programming'\"]\n",
      "Bengaluru\n",
      "['Bengaluru', 1971, (1, 2, 3, 4, 5, 'Is this tuple?'), \"'Hello,welcome to Python Programming'\", 'Mumbai']\n",
      "['Bengaluru', 1971, (1, 2, 3, 4, 5, 'Is this tuple?'), \"'Hello,welcome to Python Programming'\"]\n",
      "['Bengaluru', (1, 2, 3, 4, 5, 'Is this tuple?'), \"'Hello,welcome to Python Programming'\"]\n",
      "['Bengaluru', (1, 2, 3, 4, 5, 'Is this tuple?')]\n",
      "['Bengaluru', (1, 2, 3, 4, 5, 'Is this tuple?'), \"'Hello,welcome to Python Programming'\"]\n",
      "['Bengaluru', (1, 2, 3, 4, 5, 'Is this tuple?'), \"'Hello,welcome to Python Programming'\", 45, 'Mumbai', 'Sweet Home']\n",
      "['Skillo villa', 'Bengaluru', (1, 2, 3, 4, 5, 'Is this tuple?'), \"'Hello,welcome to Python Programming'\", 45, 'Mumbai', 'Sweet Home']\n"
     ]
    }
   ],
   "source": [
    "#start your code here\n",
    "List = [ 'Bengaluru','New York', 1971, '1682', (1,2,3,4,5,'Is this tuple?'),\"'Hello,welcome to Python Programming'\"]\n",
    "print(List)\n",
    "print(List[4])\n",
    "List.remove('1682')\n",
    "List.remove('New York')\n",
    "print(List)\n",
    "List[-4]\n",
    "print(List[-4])\n",
    "List.append('Mumbai')\n",
    "print(List)\n",
    "del List[4]\n",
    "print(List)\n",
    "List.remove(1971)\n",
    "print(List)\n",
    "List.pop()\n",
    "print(List)\n",
    "List.append(\"'Hello,welcome to Python Programming'\")\n",
    "print(List)\n",
    "List.extend([45,'Mumbai','Sweet Home'])\n",
    "print(List)\n",
    "List.insert(0,'Skillo villa')\n",
    "print(List)\n"
   ]
  },
  {
   "cell_type": "markdown",
   "metadata": {},
   "source": [
    "7. **Write a python program which can calculate the electricity bill by considering the no of units consumed and other parameters are mentioned below**\n",
    "- If units consumed is less than 50 then bill amount should be 100INR\n",
    "- If units consumed between 50 - 300 then each unit will be charged at 4.5 INR\n",
    "-  If units consumed more than 300 then that billed individual have to pay base pay as 1000INR and 300 units will be reduced from his total consumed units and for remaining units 7 INR will be charged for each unit.\n",
    "- Execution should be "
   ]
  },
  {
   "cell_type": "code",
   "execution_count": 39,
   "metadata": {},
   "outputs": [
    {
     "name": "stdout",
     "output_type": "stream",
     "text": [
      "Enter the bill for this month in INR = INR 256.92\n",
      "\n",
      " Your Electricity bill for this month is = 1156.14 \n"
     ]
    }
   ],
   "source": [
    "#start your code here\n",
    "unit = float(input(\"Enter the bill for this month in INR = INR \"))\n",
    "if(unit<50):\n",
    "    bill=100\n",
    "elif(unit>50 and unit<300):\n",
    "    bill=unit*4.5\n",
    "else:\n",
    "    bill=1000+(unit-300)*7\n",
    "print(\"\\n Your Electricity bill for this month is = %.2f \"%bill) "
   ]
  },
  {
   "cell_type": "markdown",
   "metadata": {},
   "source": [
    "8. **Write a program to calculate the tax of the vehicle based on the price**\n",
    "- below are the parameters to consider\n",
    "\n",
    "\n",
    "    Cost price (in Rs)                                            Tax\n",
    "        > 150000                                                  15 %\n",
    "        > 50000 and <= 100000                                     10%"
   ]
  },
  {
   "cell_type": "code",
   "execution_count": 45,
   "metadata": {},
   "outputs": [
    {
     "name": "stdout",
     "output_type": "stream",
     "text": [
      "Enter the cost price of vehicle in Rs 60000.34\n",
      "\n",
      " Calculated tax of the vehicle is = 66000.37\n"
     ]
    }
   ],
   "source": [
    "#start your code here\n",
    "cost_price=float(input(\"Enter the cost price of vehicle in Rs \"))\n",
    "if(cost_price>=150000):\n",
    "    tax=(15/100)*cost_price+cost_price\n",
    "elif(cost_price>50000 and cost_price<=100000):\n",
    "    tax=(10/100)*cost_price+cost_price\n",
    "print(\"\\n Calculated tax of the vehicle is = %.2f\" %tax)    \n"
   ]
  },
  {
   "cell_type": "markdown",
   "metadata": {},
   "source": [
    "9. **Write a program to check if the input is positive or negitive**\n"
   ]
  },
  {
   "cell_type": "code",
   "execution_count": 48,
   "metadata": {
    "scrolled": true
   },
   "outputs": [
    {
     "name": "stdout",
     "output_type": "stream",
     "text": [
      "Enter the number :- -98\n",
      "Number is negative!\n"
     ]
    }
   ],
   "source": [
    "#start your code here\n",
    "number=int(input(\"Enter the number :- \"))\n",
    "if(number>=0):\n",
    "    print(\"Yes the number is positive!\")\n",
    "else:\n",
    "    print(\"Number is negative!\")"
   ]
  },
  {
   "cell_type": "markdown",
   "metadata": {},
   "source": [
    "10. **Define a function which can multiply the string with n number of times**\n",
    "- string = \"python programming\""
   ]
  },
  {
   "cell_type": "code",
   "execution_count": 1,
   "metadata": {},
   "outputs": [
    {
     "name": "stdout",
     "output_type": "stream",
     "text": [
      "python programmingpython programmingpython programming\n"
     ]
    }
   ],
   "source": [
    "#start your code here\n",
    "def multiply_str(str1,c):\n",
    "    print(c*str1)\n",
    "    \n",
    "# str2=input(\"Enter the string :- \")   \n",
    "# c1=int(input(\"Enter the value which shall get multiplied to string \"))\n",
    "multiply_str(\"python programming\",3)"
   ]
  },
  {
   "cell_type": "markdown",
   "metadata": {},
   "source": [
    "11. **Define a function whicg can sum up two numbers** \n"
   ]
  },
  {
   "cell_type": "code",
   "execution_count": 10,
   "metadata": {},
   "outputs": [
    {
     "name": "stdout",
     "output_type": "stream",
     "text": [
      "The sum of two numbers is 19\n",
      "The sum of two numbers is 27\n"
     ]
    }
   ],
   "source": [
    "#start your code here\n",
    "def sum_two_no(a,b):\n",
    "    sum=a+b\n",
    "    print(f\"The sum of two numbers is {sum}\")\n",
    "    \n",
    "sum_two_no(9,10)   \n",
    "sum_two_no(8,19)\n",
    "    \n",
    "   "
   ]
  },
  {
   "cell_type": "markdown",
   "metadata": {},
   "source": [
    "12. **Define a function which can identify if a user has entered specifit string or not**\n",
    "- specified string = \"India\""
   ]
  },
  {
   "cell_type": "code",
   "execution_count": 2,
   "metadata": {},
   "outputs": [
    {
     "name": "stdout",
     "output_type": "stream",
     "text": [
      "User input is string\n"
     ]
    }
   ],
   "source": [
    "#start your code here\n",
    "def check_is_string(input_str):\n",
    "    if input_str.strip().isdigit():\n",
    "        print(\"User input is Number\")\n",
    "    else:\n",
    "        print(\"User input is string\")\n",
    "\n",
    "\n",
    "# str1 = input(\"Enter the specified string \")\n",
    "check_is_string(\"India\")"
   ]
  },
  {
   "cell_type": "markdown",
   "metadata": {},
   "source": [
    "13. **define a function which will greet by taking user name as input**\n",
    "- input = name\n",
    "- hello 'name', hope you are doing good"
   ]
  },
  {
   "cell_type": "code",
   "execution_count": 4,
   "metadata": {},
   "outputs": [
    {
     "name": "stdout",
     "output_type": "stream",
     "text": [
      "hello Shalini,hope you are doing good\n"
     ]
    }
   ],
   "source": [
    "#start your code here\n",
    "# name=input(\"Enter your name \")\n",
    "# print(\"hello \"+ input(\"Enter your name \") + \",hope you are doing good\")\n",
    "def your_name(name):\n",
    "    print(\"hello \"+ name + \",hope you are doing good\")\n",
    "\n",
    "# str1=input(\"Enter your name please! \")    \n",
    "your_name(\"Shalini\")\n"
   ]
  },
  {
   "cell_type": "markdown",
   "metadata": {},
   "source": [
    "14. **Define a function which can give us the entire prime numbers till the input**\n"
   ]
  },
  {
   "cell_type": "code",
   "execution_count": 6,
   "metadata": {},
   "outputs": [
    {
     "name": "stdout",
     "output_type": "stream",
     "text": [
      "2\n",
      "3\n",
      "5\n",
      "7\n",
      "11\n",
      "13\n",
      "17\n",
      "19\n",
      "23\n",
      "29\n",
      "31\n",
      "37\n",
      "41\n",
      "43\n",
      "47\n"
     ]
    }
   ],
   "source": [
    "#start your code here\n",
    "def prime_numbers(num):\n",
    "  for i in range(2,num+1):\n",
    "    for j in range(2,i):\n",
    "        if(i%j == 0):\n",
    "            break\n",
    "    else:\n",
    "        print(i)            \n",
    "    \n",
    "prime_numbers(50)"
   ]
  },
  {
   "cell_type": "markdown",
   "metadata": {},
   "source": [
    "15. **Q.1 Check if a given string is palindrome.**\n",
    "    <br> A string is palindrome if the reverse of the string is same as itself.\n",
    "    <br> For eg. madam\n",
    "    <br> Print \"`<string>` is palindrome\" if it is palindrome \n",
    "    <br> else \"`<string>` is not a palindrome\" if it is not a palindrome.\n",
    "    <br> Hint : Use slicing to get reverse of the string."
   ]
  },
  {
   "cell_type": "code",
   "execution_count": 8,
   "metadata": {},
   "outputs": [
    {
     "name": "stdout",
     "output_type": "stream",
     "text": [
      "Yes its a palindrom!!\n"
     ]
    }
   ],
   "source": [
    "#start your code here\n",
    "def IsPalindrom(str1):\n",
    "    return str1 == str1[::-1]\n",
    "    \n",
    "result = IsPalindrom(\"radar\")\n",
    "if IsPalindrom:\n",
    "      print(\"Yes its a palindrom!!\")\n",
    "else:\n",
    "      print(\"No its not a palindrom!\")"
   ]
  },
  {
   "cell_type": "markdown",
   "metadata": {},
   "source": [
    "16. **Write a python program to find n is a leap year** \n",
    "<br> Print \"n is a leap year\" if the given year is leap year.\n",
    "<br> Print \"n is not a leap year\" if the given year is not leap year.\n",
    "<br> Replace n with given year.\n",
    "<br> Hint : Use nested if-else "
   ]
  },
  {
   "cell_type": "code",
   "execution_count": 24,
   "metadata": {},
   "outputs": [
    {
     "name": "stdout",
     "output_type": "stream",
     "text": [
      "Enter the year: 2006\n",
      "Enter the year to be replaced 2010\n",
      "2010 is not a leap year\n"
     ]
    }
   ],
   "source": [
    "#start your codes here\n",
    "n=int(input(\"Enter the year: \"))\n",
    "yr=int(input(\"Enter the year to be replaced \"))\n",
    "if (n%400 == 0 or ((n%4==0) and (n%100!=0))):\n",
    "    print(\"%d is the leap year\" %n)\n",
    "else:\n",
    "    n=yr\n",
    "    print(\"%d is not a leap year\" %n)\n",
    "\n",
    "   \n",
    "       "
   ]
  },
  {
   "cell_type": "markdown",
   "metadata": {},
   "source": [
    "17. **Write a python program to check if n is leap year**"
   ]
  },
  {
   "cell_type": "code",
   "execution_count": 11,
   "metadata": {},
   "outputs": [
    {
     "name": "stdout",
     "output_type": "stream",
     "text": [
      "Enter the year: 2000\n",
      "2000 is the leap year\n"
     ]
    }
   ],
   "source": [
    "#start your codes here\n",
    "n=int(input(\"Enter the year: \"))\n",
    "if (n%400 == 0 or ((n%4==0) and (n%100!=0))):\n",
    "    print(\"%d is the leap year\" %n)\n",
    "else:\n",
    "    print(\"%d is not a leap year\" %n)\n",
    "\n",
    "\n"
   ]
  },
  {
   "cell_type": "markdown",
   "metadata": {},
   "source": [
    "18.  **Find the largest among three numbers**\n",
    "\n",
    "eg. Consider a,b,c as the three numbers, find which is the  largest number among them"
   ]
  },
  {
   "cell_type": "code",
   "execution_count": 51,
   "metadata": {},
   "outputs": [
    {
     "name": "stdout",
     "output_type": "stream",
     "text": [
      "Enter the value of a: 6\n",
      "Enter the value of b: 8\n",
      "Enter the value of c: 9\n",
      "Greatest value is 9\n"
     ]
    }
   ],
   "source": [
    "#start your code here\n",
    "a=int(input(\"Enter the value of a: \"))\n",
    "b=int(input(\"Enter the value of b: \"))\n",
    "c=int(input(\"Enter the value of c: \"))\n",
    "if a>b and a>c:\n",
    "    print(f\"Greatest value is {a}\")\n",
    "elif b>a and b>c:\n",
    "    print(f\"Greatest value is {b}\")\n",
    "else:\n",
    "    print(f\"Greatest value is {c}\")"
   ]
  },
  {
   "cell_type": "markdown",
   "metadata": {},
   "source": [
    "19. **write a python program to print even numbers from 1 to 15 by using range function**\n"
   ]
  },
  {
   "cell_type": "code",
   "execution_count": 9,
   "metadata": {},
   "outputs": [
    {
     "name": "stdout",
     "output_type": "stream",
     "text": [
      "2\n",
      "4\n",
      "6\n",
      "8\n",
      "10\n",
      "12\n",
      "14\n"
     ]
    }
   ],
   "source": [
    "#start your code here\n",
    "for no in range(1,16):\n",
    "  if(no%2 == 0):\n",
    "    print(no)\n",
    "    "
   ]
  },
  {
   "cell_type": "markdown",
   "metadata": {},
   "source": [
    "20. **Write a program to guess the integer which is selected by computerby using  randint**\n",
    "- use random and radint \n",
    "- range should be 1 to 10\n",
    "- if user's number is greater than 10 then program should say your guess is too high\n",
    "- if user input is matches with the computer choice then your program should say \"yey! correct guess\"\n",
    "- otherwise your program should say too low"
   ]
  },
  {
   "cell_type": "code",
   "execution_count": 10,
   "metadata": {},
   "outputs": [
    {
     "name": "stdout",
     "output_type": "stream",
     "text": [
      "Random number between 1 and 10 is 5 \n",
      "Enter the no of your choice :5\n",
      "Yey! You are correct!!\n"
     ]
    }
   ],
   "source": [
    "#start your code here\n",
    "import random\n",
    "choice=random.randint(1,10)\n",
    "print(\"Random number between 1 and 10 is %s \"%(choice))\n",
    "user_choice=int(input(\"Enter the no of your choice :\"))\n",
    "if user_choice > 10:\n",
    "    print(\"Your choice is too high\")\n",
    "elif user_choice == choice:\n",
    "    print(\"Yey! You are correct!!\")\n",
    "else:\n",
    "    print(\"Too Low\")"
   ]
  }
 ],
 "metadata": {
  "kernelspec": {
   "display_name": "Python 3 (ipykernel)",
   "language": "python",
   "name": "python3"
  },
  "language_info": {
   "codemirror_mode": {
    "name": "ipython",
    "version": 3
   },
   "file_extension": ".py",
   "mimetype": "text/x-python",
   "name": "python",
   "nbconvert_exporter": "python",
   "pygments_lexer": "ipython3",
   "version": "3.9.12"
  }
 },
 "nbformat": 4,
 "nbformat_minor": 4
}
